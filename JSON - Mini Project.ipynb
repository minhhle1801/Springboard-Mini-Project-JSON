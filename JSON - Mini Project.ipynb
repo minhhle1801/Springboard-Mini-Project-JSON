{
 "cells": [
  {
   "cell_type": "markdown",
   "metadata": {},
   "source": [
    "JSON - Mini Project"
   ]
  },
  {
   "cell_type": "code",
   "execution_count": 1,
   "metadata": {},
   "outputs": [],
   "source": [
    "import pandas as pd\n",
    "import json\n",
    "from pandas.io.json import json_normalize"
   ]
  },
  {
   "cell_type": "code",
   "execution_count": 2,
   "metadata": {},
   "outputs": [],
   "source": [
    "# Loading JSON file as Pandas DataFrame\n",
    "file_name = 'world_bank_projects.json'\n",
    "json_df = pd.read_json(file_name)"
   ]
  },
  {
   "cell_type": "markdown",
   "metadata": {},
   "source": [
    "1. Find the 10 countries with most projects"
   ]
  },
  {
   "cell_type": "code",
   "execution_count": 3,
   "metadata": {},
   "outputs": [
    {
     "name": "stdout",
     "output_type": "stream",
     "text": [
      "People's Republic of China         19\n",
      "Republic of Indonesia              19\n",
      "Socialist Republic of Vietnam      17\n",
      "Republic of India                  16\n",
      "Republic of Yemen                  13\n",
      "Kingdom of Morocco                 12\n",
      "Nepal                              12\n",
      "People's Republic of Bangladesh    12\n",
      "Africa                             11\n",
      "Republic of Mozambique             11\n",
      "Name: countryname, dtype: int64\n"
     ]
    }
   ],
   "source": [
    "most_projects = json_df['countryname'].value_counts().head(10)\n",
    "print(most_projects)"
   ]
  },
  {
   "cell_type": "markdown",
   "metadata": {},
   "source": [
    "2. Find the top 10 major project themes (using column 'mjtheme_namecode')"
   ]
  },
  {
   "cell_type": "code",
   "execution_count": 4,
   "metadata": {},
   "outputs": [
    {
     "name": "stdout",
     "output_type": "stream",
     "text": [
      "Environment and natural resources management    223\n",
      "Rural development                               202\n",
      "Human development                               197\n",
      "Public sector governance                        184\n",
      "Social protection and risk management           158\n",
      "Financial and private sector development        130\n",
      "                                                122\n",
      "Social dev/gender/inclusion                     119\n",
      "Trade and integration                            72\n",
      "Urban development                                47\n",
      "Name: name, dtype: int64\n"
     ]
    }
   ],
   "source": [
    "# Loading JSON file as String\n",
    "json_str = json.load(open('world_bank_projects.json'))\n",
    "project_df = json_normalize(json_str, 'mjtheme_namecode')\n",
    "\n",
    "# Using value_counts() and head() method on the project_df to find top 10 major project themes\n",
    "major_projects = project_df['name'].value_counts().head(10)\n",
    "print(major_projects)"
   ]
  },
  {
   "cell_type": "markdown",
   "metadata": {},
   "source": [
    "3. In 2. above you will notice that some entries have only the code and the name is missing. Create a dataframe with the missing names filled in."
   ]
  },
  {
   "cell_type": "code",
   "execution_count": 5,
   "metadata": {},
   "outputs": [
    {
     "name": "stdout",
     "output_type": "stream",
     "text": [
      "{1: 'Economic management', 2: 'Public sector governance', 3: 'Rule of law', 4: 'Financial and private sector development', 5: 'Trade and integration', 6: 'Social protection and risk management', 7: 'Social dev/gender/inclusion', 8: 'Human development', 9: 'Urban development', 10: 'Rural development', 11: 'Environment and natural resources management'}\n"
     ]
    }
   ],
   "source": [
    "# Converting \"code\" from string to integer\n",
    "project_df['code'] = project_df['code'].apply(lambda x: int(x))\n",
    "\n",
    "# set \"code\" as index of the DataFrame project_df\n",
    "project_df = project_df.set_index('code')\n",
    "\n",
    "\"\"\" Create an dictionary that contains in which \n",
    "1. the keys is the code of the project \n",
    "2. the values is the name of the project \"\"\"\n",
    "project_df2 = project_df[project_df['name']!=\"\"].sort_index().drop_duplicates()\n",
    "name= list(project_df2['name'])\n",
    "code_name_dict = dict(enumerate(name, start=1))\n",
    "print(code_name_dict)"
   ]
  },
  {
   "cell_type": "code",
   "execution_count": 6,
   "metadata": {},
   "outputs": [
    {
     "name": "stdout",
     "output_type": "stream",
     "text": [
      "                                              name\n",
      "code                                              \n",
      "8                                Human development\n",
      "11    Environment and natural resources management\n",
      "1                              Economic management\n",
      "6            Social protection and risk management\n",
      "5                            Trade and integration\n",
      "2                         Public sector governance\n",
      "11    Environment and natural resources management\n",
      "6            Social protection and risk management\n",
      "7                      Social dev/gender/inclusion\n",
      "7                      Social dev/gender/inclusion\n",
      "5                            Trade and integration\n",
      "4         Financial and private sector development\n",
      "6            Social protection and risk management\n",
      "6            Social protection and risk management\n",
      "2                         Public sector governance\n",
      "4         Financial and private sector development\n",
      "11    Environment and natural resources management\n",
      "8                                Human development\n",
      "10                               Rural development\n",
      "7                      Social dev/gender/inclusion\n"
     ]
    }
   ],
   "source": [
    "\"\"\" Iterating over the project_df DataFrame. If the value in column \"name\" is missing, \n",
    "replacing it with the value from code_name_dict where its key matchs with 'code', the index of project_df \"\"\"\n",
    "\n",
    "for lab, row in project_df.iterrows():\n",
    "    if row['name']==\"\":\n",
    "        row['name']=code_name_dict[lab]\n",
    "\n",
    "print(project_df.head(20))"
   ]
  },
  {
   "cell_type": "code",
   "execution_count": null,
   "metadata": {},
   "outputs": [],
   "source": []
  }
 ],
 "metadata": {
  "kernelspec": {
   "display_name": "Python 3",
   "language": "python",
   "name": "python3"
  },
  "language_info": {
   "codemirror_mode": {
    "name": "ipython",
    "version": 3
   },
   "file_extension": ".py",
   "mimetype": "text/x-python",
   "name": "python",
   "nbconvert_exporter": "python",
   "pygments_lexer": "ipython3",
   "version": "3.7.4"
  }
 },
 "nbformat": 4,
 "nbformat_minor": 2
}
